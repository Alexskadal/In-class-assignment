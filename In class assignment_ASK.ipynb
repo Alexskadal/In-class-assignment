{
 "cells": [
  {
   "cell_type": "markdown",
   "id": "7c923009",
   "metadata": {
    "colab_type": "text",
    "id": "0MRC0e0KhQ0S"
   },
   "source": [
    "# Linear and Logistic Regression"
   ]
  },
  {
   "cell_type": "markdown",
   "id": "7c57266e",
   "metadata": {
    "colab_type": "text",
    "id": "LWd1UlMnhT2s"
   },
   "source": [
    "## Importing the libraries"
   ]
  },
  {
   "cell_type": "code",
   "execution_count": 1,
   "id": "927f153c",
   "metadata": {},
   "outputs": [],
   "source": [
    "import matplotlib.pyplot as plt\n",
    "import pandas as pd\n",
    "import numpy as np \n",
    "import seaborn as sns "
   ]
  },
  {
   "cell_type": "markdown",
   "id": "4c9f37b8",
   "metadata": {
    "colab_type": "text",
    "id": "K1VMqkGvhc3-"
   },
   "source": [
    "## Importing the dataset"
   ]
  },
  {
   "cell_type": "code",
   "execution_count": 2,
   "id": "b3dc6012",
   "metadata": {},
   "outputs": [],
   "source": [
    "data=pd.read_csv(\"HRV.csv\")"
   ]
  },
  {
   "cell_type": "markdown",
   "id": "9dba4163",
   "metadata": {},
   "source": [
    "## Dataset Preprocessing"
   ]
  },
  {
   "cell_type": "code",
   "execution_count": 3,
   "id": "dec80d71",
   "metadata": {},
   "outputs": [
    {
     "data": {
      "text/html": [
       "<div>\n",
       "<style scoped>\n",
       "    .dataframe tbody tr th:only-of-type {\n",
       "        vertical-align: middle;\n",
       "    }\n",
       "\n",
       "    .dataframe tbody tr th {\n",
       "        vertical-align: top;\n",
       "    }\n",
       "\n",
       "    .dataframe thead th {\n",
       "        text-align: right;\n",
       "    }\n",
       "</style>\n",
       "<table border=\"1\" class=\"dataframe\">\n",
       "  <thead>\n",
       "    <tr style=\"text-align: right;\">\n",
       "      <th></th>\n",
       "      <th>male</th>\n",
       "      <th>age</th>\n",
       "      <th>currentSmoker</th>\n",
       "      <th>totChol</th>\n",
       "      <th>sysBP</th>\n",
       "      <th>diaBP</th>\n",
       "      <th>BMI</th>\n",
       "      <th>heartRate</th>\n",
       "      <th>glucose</th>\n",
       "      <th>TenYearCHD</th>\n",
       "    </tr>\n",
       "  </thead>\n",
       "  <tbody>\n",
       "    <tr>\n",
       "      <th>0</th>\n",
       "      <td>1</td>\n",
       "      <td>39</td>\n",
       "      <td>0</td>\n",
       "      <td>195.0</td>\n",
       "      <td>106.0</td>\n",
       "      <td>70.0</td>\n",
       "      <td>26.97</td>\n",
       "      <td>80.0</td>\n",
       "      <td>77.0</td>\n",
       "      <td>0</td>\n",
       "    </tr>\n",
       "    <tr>\n",
       "      <th>1</th>\n",
       "      <td>0</td>\n",
       "      <td>46</td>\n",
       "      <td>0</td>\n",
       "      <td>250.0</td>\n",
       "      <td>121.0</td>\n",
       "      <td>81.0</td>\n",
       "      <td>28.73</td>\n",
       "      <td>95.0</td>\n",
       "      <td>76.0</td>\n",
       "      <td>0</td>\n",
       "    </tr>\n",
       "    <tr>\n",
       "      <th>2</th>\n",
       "      <td>1</td>\n",
       "      <td>48</td>\n",
       "      <td>1</td>\n",
       "      <td>245.0</td>\n",
       "      <td>127.5</td>\n",
       "      <td>80.0</td>\n",
       "      <td>25.34</td>\n",
       "      <td>75.0</td>\n",
       "      <td>70.0</td>\n",
       "      <td>0</td>\n",
       "    </tr>\n",
       "    <tr>\n",
       "      <th>3</th>\n",
       "      <td>0</td>\n",
       "      <td>61</td>\n",
       "      <td>1</td>\n",
       "      <td>225.0</td>\n",
       "      <td>150.0</td>\n",
       "      <td>95.0</td>\n",
       "      <td>28.58</td>\n",
       "      <td>65.0</td>\n",
       "      <td>103.0</td>\n",
       "      <td>1</td>\n",
       "    </tr>\n",
       "    <tr>\n",
       "      <th>4</th>\n",
       "      <td>0</td>\n",
       "      <td>46</td>\n",
       "      <td>1</td>\n",
       "      <td>285.0</td>\n",
       "      <td>130.0</td>\n",
       "      <td>84.0</td>\n",
       "      <td>23.10</td>\n",
       "      <td>85.0</td>\n",
       "      <td>85.0</td>\n",
       "      <td>0</td>\n",
       "    </tr>\n",
       "  </tbody>\n",
       "</table>\n",
       "</div>"
      ],
      "text/plain": [
       "   male  age  currentSmoker  totChol  sysBP  diaBP    BMI  heartRate  glucose  \\\n",
       "0     1   39              0    195.0  106.0   70.0  26.97       80.0     77.0   \n",
       "1     0   46              0    250.0  121.0   81.0  28.73       95.0     76.0   \n",
       "2     1   48              1    245.0  127.5   80.0  25.34       75.0     70.0   \n",
       "3     0   61              1    225.0  150.0   95.0  28.58       65.0    103.0   \n",
       "4     0   46              1    285.0  130.0   84.0  23.10       85.0     85.0   \n",
       "\n",
       "   TenYearCHD  \n",
       "0           0  \n",
       "1           0  \n",
       "2           0  \n",
       "3           1  \n",
       "4           0  "
      ]
     },
     "execution_count": 3,
     "metadata": {},
     "output_type": "execute_result"
    }
   ],
   "source": [
    "data.head()"
   ]
  },
  {
   "cell_type": "code",
   "execution_count": 4,
   "id": "3789d5ea",
   "metadata": {},
   "outputs": [
    {
     "name": "stdout",
     "output_type": "stream",
     "text": [
      "<class 'pandas.core.frame.DataFrame'>\n",
      "RangeIndex: 4234 entries, 0 to 4233\n",
      "Data columns (total 10 columns):\n",
      " #   Column         Non-Null Count  Dtype  \n",
      "---  ------         --------------  -----  \n",
      " 0   male           4234 non-null   int64  \n",
      " 1   age            4234 non-null   int64  \n",
      " 2   currentSmoker  4234 non-null   int64  \n",
      " 3   totChol        4184 non-null   float64\n",
      " 4   sysBP          4234 non-null   float64\n",
      " 5   diaBP          4234 non-null   float64\n",
      " 6   BMI            4215 non-null   float64\n",
      " 7   heartRate      4233 non-null   float64\n",
      " 8   glucose        3847 non-null   float64\n",
      " 9   TenYearCHD     4234 non-null   int64  \n",
      "dtypes: float64(6), int64(4)\n",
      "memory usage: 330.9 KB\n"
     ]
    }
   ],
   "source": [
    "data.info()"
   ]
  },
  {
   "cell_type": "code",
   "execution_count": 5,
   "id": "85a9873b",
   "metadata": {},
   "outputs": [
    {
     "data": {
      "text/plain": [
       "male               0\n",
       "age                0\n",
       "currentSmoker      0\n",
       "totChol           50\n",
       "sysBP              0\n",
       "diaBP              0\n",
       "BMI               19\n",
       "heartRate          1\n",
       "glucose          387\n",
       "TenYearCHD         0\n",
       "dtype: int64"
      ]
     },
     "execution_count": 5,
     "metadata": {},
     "output_type": "execute_result"
    }
   ],
   "source": [
    "data.isnull().sum()"
   ]
  },
  {
   "cell_type": "code",
   "execution_count": 6,
   "id": "d9758b8e",
   "metadata": {},
   "outputs": [
    {
     "data": {
      "text/html": [
       "<div>\n",
       "<style scoped>\n",
       "    .dataframe tbody tr th:only-of-type {\n",
       "        vertical-align: middle;\n",
       "    }\n",
       "\n",
       "    .dataframe tbody tr th {\n",
       "        vertical-align: top;\n",
       "    }\n",
       "\n",
       "    .dataframe thead th {\n",
       "        text-align: right;\n",
       "    }\n",
       "</style>\n",
       "<table border=\"1\" class=\"dataframe\">\n",
       "  <thead>\n",
       "    <tr style=\"text-align: right;\">\n",
       "      <th></th>\n",
       "      <th>male</th>\n",
       "      <th>age</th>\n",
       "      <th>currentSmoker</th>\n",
       "      <th>totChol</th>\n",
       "      <th>sysBP</th>\n",
       "      <th>diaBP</th>\n",
       "      <th>BMI</th>\n",
       "      <th>heartRate</th>\n",
       "      <th>glucose</th>\n",
       "      <th>TenYearCHD</th>\n",
       "    </tr>\n",
       "  </thead>\n",
       "  <tbody>\n",
       "    <tr>\n",
       "      <th>count</th>\n",
       "      <td>4234.000000</td>\n",
       "      <td>4234.000000</td>\n",
       "      <td>4234.000000</td>\n",
       "      <td>4184.000000</td>\n",
       "      <td>4234.000000</td>\n",
       "      <td>4234.000000</td>\n",
       "      <td>4215.000000</td>\n",
       "      <td>4233.000000</td>\n",
       "      <td>3847.000000</td>\n",
       "      <td>4234.000000</td>\n",
       "    </tr>\n",
       "    <tr>\n",
       "      <th>mean</th>\n",
       "      <td>0.428909</td>\n",
       "      <td>49.583845</td>\n",
       "      <td>0.494095</td>\n",
       "      <td>236.723231</td>\n",
       "      <td>132.347780</td>\n",
       "      <td>82.886042</td>\n",
       "      <td>25.800624</td>\n",
       "      <td>75.882825</td>\n",
       "      <td>81.976085</td>\n",
       "      <td>0.151630</td>\n",
       "    </tr>\n",
       "    <tr>\n",
       "      <th>std</th>\n",
       "      <td>0.494979</td>\n",
       "      <td>8.575050</td>\n",
       "      <td>0.500024</td>\n",
       "      <td>44.608268</td>\n",
       "      <td>22.046338</td>\n",
       "      <td>11.911857</td>\n",
       "      <td>4.081183</td>\n",
       "      <td>12.031365</td>\n",
       "      <td>23.966195</td>\n",
       "      <td>0.358704</td>\n",
       "    </tr>\n",
       "    <tr>\n",
       "      <th>min</th>\n",
       "      <td>0.000000</td>\n",
       "      <td>32.000000</td>\n",
       "      <td>0.000000</td>\n",
       "      <td>107.000000</td>\n",
       "      <td>83.500000</td>\n",
       "      <td>48.000000</td>\n",
       "      <td>15.540000</td>\n",
       "      <td>44.000000</td>\n",
       "      <td>40.000000</td>\n",
       "      <td>0.000000</td>\n",
       "    </tr>\n",
       "    <tr>\n",
       "      <th>25%</th>\n",
       "      <td>0.000000</td>\n",
       "      <td>42.000000</td>\n",
       "      <td>0.000000</td>\n",
       "      <td>206.000000</td>\n",
       "      <td>117.000000</td>\n",
       "      <td>75.000000</td>\n",
       "      <td>23.070000</td>\n",
       "      <td>68.000000</td>\n",
       "      <td>71.000000</td>\n",
       "      <td>0.000000</td>\n",
       "    </tr>\n",
       "    <tr>\n",
       "      <th>50%</th>\n",
       "      <td>0.000000</td>\n",
       "      <td>49.000000</td>\n",
       "      <td>0.000000</td>\n",
       "      <td>234.000000</td>\n",
       "      <td>128.000000</td>\n",
       "      <td>82.000000</td>\n",
       "      <td>25.400000</td>\n",
       "      <td>75.000000</td>\n",
       "      <td>78.000000</td>\n",
       "      <td>0.000000</td>\n",
       "    </tr>\n",
       "    <tr>\n",
       "      <th>75%</th>\n",
       "      <td>1.000000</td>\n",
       "      <td>56.000000</td>\n",
       "      <td>1.000000</td>\n",
       "      <td>263.000000</td>\n",
       "      <td>144.000000</td>\n",
       "      <td>89.500000</td>\n",
       "      <td>28.040000</td>\n",
       "      <td>83.000000</td>\n",
       "      <td>87.000000</td>\n",
       "      <td>0.000000</td>\n",
       "    </tr>\n",
       "    <tr>\n",
       "      <th>max</th>\n",
       "      <td>1.000000</td>\n",
       "      <td>70.000000</td>\n",
       "      <td>1.000000</td>\n",
       "      <td>696.000000</td>\n",
       "      <td>295.000000</td>\n",
       "      <td>142.500000</td>\n",
       "      <td>56.800000</td>\n",
       "      <td>143.000000</td>\n",
       "      <td>394.000000</td>\n",
       "      <td>1.000000</td>\n",
       "    </tr>\n",
       "  </tbody>\n",
       "</table>\n",
       "</div>"
      ],
      "text/plain": [
       "              male          age  currentSmoker      totChol        sysBP  \\\n",
       "count  4234.000000  4234.000000    4234.000000  4184.000000  4234.000000   \n",
       "mean      0.428909    49.583845       0.494095   236.723231   132.347780   \n",
       "std       0.494979     8.575050       0.500024    44.608268    22.046338   \n",
       "min       0.000000    32.000000       0.000000   107.000000    83.500000   \n",
       "25%       0.000000    42.000000       0.000000   206.000000   117.000000   \n",
       "50%       0.000000    49.000000       0.000000   234.000000   128.000000   \n",
       "75%       1.000000    56.000000       1.000000   263.000000   144.000000   \n",
       "max       1.000000    70.000000       1.000000   696.000000   295.000000   \n",
       "\n",
       "             diaBP          BMI    heartRate      glucose   TenYearCHD  \n",
       "count  4234.000000  4215.000000  4233.000000  3847.000000  4234.000000  \n",
       "mean     82.886042    25.800624    75.882825    81.976085     0.151630  \n",
       "std      11.911857     4.081183    12.031365    23.966195     0.358704  \n",
       "min      48.000000    15.540000    44.000000    40.000000     0.000000  \n",
       "25%      75.000000    23.070000    68.000000    71.000000     0.000000  \n",
       "50%      82.000000    25.400000    75.000000    78.000000     0.000000  \n",
       "75%      89.500000    28.040000    83.000000    87.000000     0.000000  \n",
       "max     142.500000    56.800000   143.000000   394.000000     1.000000  "
      ]
     },
     "execution_count": 6,
     "metadata": {},
     "output_type": "execute_result"
    }
   ],
   "source": [
    "data.describe()"
   ]
  },
  {
   "cell_type": "code",
   "execution_count": 7,
   "id": "da494539",
   "metadata": {},
   "outputs": [],
   "source": [
    "col_median=data['totChol'].median()\n",
    "col_median\n",
    "data['totChol'].fillna(col_median,inplace=True)"
   ]
  },
  {
   "cell_type": "code",
   "execution_count": 8,
   "id": "fae0d6ec",
   "metadata": {},
   "outputs": [
    {
     "data": {
      "text/plain": [
       "male               0\n",
       "age                0\n",
       "currentSmoker      0\n",
       "totChol            0\n",
       "sysBP              0\n",
       "diaBP              0\n",
       "BMI               19\n",
       "heartRate          1\n",
       "glucose          387\n",
       "TenYearCHD         0\n",
       "dtype: int64"
      ]
     },
     "execution_count": 8,
     "metadata": {},
     "output_type": "execute_result"
    }
   ],
   "source": [
    "data.isnull().sum()"
   ]
  },
  {
   "cell_type": "code",
   "execution_count": 9,
   "id": "378b7a62",
   "metadata": {},
   "outputs": [],
   "source": [
    "col_BMI=data['BMI'].mean()\n",
    "col_BMI\n",
    "data['BMI'].fillna(col_BMI,inplace=True)"
   ]
  },
  {
   "cell_type": "code",
   "execution_count": 10,
   "id": "a9be0fac",
   "metadata": {},
   "outputs": [
    {
     "data": {
      "text/plain": [
       "male               0\n",
       "age                0\n",
       "currentSmoker      0\n",
       "totChol            0\n",
       "sysBP              0\n",
       "diaBP              0\n",
       "BMI                0\n",
       "heartRate          1\n",
       "glucose          387\n",
       "TenYearCHD         0\n",
       "dtype: int64"
      ]
     },
     "execution_count": 10,
     "metadata": {},
     "output_type": "execute_result"
    }
   ],
   "source": [
    "data.isnull().sum()"
   ]
  },
  {
   "cell_type": "code",
   "execution_count": 11,
   "id": "738d7af1",
   "metadata": {},
   "outputs": [],
   "source": [
    "col_heartRate=data['heartRate'].mean()\n",
    "col_heartRate\n",
    "data['heartRate'].fillna(col_heartRate,inplace=True)"
   ]
  },
  {
   "cell_type": "code",
   "execution_count": 12,
   "id": "a2962143",
   "metadata": {},
   "outputs": [
    {
     "data": {
      "text/plain": [
       "male               0\n",
       "age                0\n",
       "currentSmoker      0\n",
       "totChol            0\n",
       "sysBP              0\n",
       "diaBP              0\n",
       "BMI                0\n",
       "heartRate          0\n",
       "glucose          387\n",
       "TenYearCHD         0\n",
       "dtype: int64"
      ]
     },
     "execution_count": 12,
     "metadata": {},
     "output_type": "execute_result"
    }
   ],
   "source": [
    "data.isnull().sum()"
   ]
  },
  {
   "cell_type": "code",
   "execution_count": 13,
   "id": "879edec9",
   "metadata": {},
   "outputs": [],
   "source": [
    "col_glucose=data['glucose'].mean()\n",
    "col_glucose\n",
    "data['glucose'].fillna(col_glucose,inplace=True)"
   ]
  },
  {
   "cell_type": "code",
   "execution_count": 14,
   "id": "47cbc5e7",
   "metadata": {},
   "outputs": [
    {
     "data": {
      "text/plain": [
       "male             0\n",
       "age              0\n",
       "currentSmoker    0\n",
       "totChol          0\n",
       "sysBP            0\n",
       "diaBP            0\n",
       "BMI              0\n",
       "heartRate        0\n",
       "glucose          0\n",
       "TenYearCHD       0\n",
       "dtype: int64"
      ]
     },
     "execution_count": 14,
     "metadata": {},
     "output_type": "execute_result"
    }
   ],
   "source": [
    "data.isnull().sum()"
   ]
  },
  {
   "cell_type": "code",
   "execution_count": 15,
   "id": "6a2a5b62",
   "metadata": {},
   "outputs": [
    {
     "name": "stdout",
     "output_type": "stream",
     "text": [
      "<class 'pandas.core.frame.DataFrame'>\n",
      "RangeIndex: 4234 entries, 0 to 4233\n",
      "Data columns (total 10 columns):\n",
      " #   Column         Non-Null Count  Dtype  \n",
      "---  ------         --------------  -----  \n",
      " 0   male           4234 non-null   int64  \n",
      " 1   age            4234 non-null   int64  \n",
      " 2   currentSmoker  4234 non-null   int64  \n",
      " 3   totChol        4234 non-null   float64\n",
      " 4   sysBP          4234 non-null   float64\n",
      " 5   diaBP          4234 non-null   float64\n",
      " 6   BMI            4234 non-null   float64\n",
      " 7   heartRate      4234 non-null   float64\n",
      " 8   glucose        4234 non-null   float64\n",
      " 9   TenYearCHD     4234 non-null   int64  \n",
      "dtypes: float64(6), int64(4)\n",
      "memory usage: 330.9 KB\n"
     ]
    }
   ],
   "source": [
    "data.info()"
   ]
  },
  {
   "cell_type": "markdown",
   "id": "793c63be",
   "metadata": {},
   "source": [
    "## A. Linear Regression - Create a model to predict the cholestrol level of a person"
   ]
  },
  {
   "cell_type": "code",
   "execution_count": 16,
   "id": "f87ad1a2",
   "metadata": {},
   "outputs": [
    {
     "data": {
      "text/plain": [
       "Index(['male', 'age', 'currentSmoker', 'totChol', 'sysBP', 'diaBP', 'BMI',\n",
       "       'heartRate', 'glucose', 'TenYearCHD'],\n",
       "      dtype='object')"
      ]
     },
     "execution_count": 16,
     "metadata": {},
     "output_type": "execute_result"
    }
   ],
   "source": [
    "data.columns"
   ]
  },
  {
   "cell_type": "markdown",
   "id": "576710cb",
   "metadata": {},
   "source": [
    "### Create independent and dependent variables to predict "
   ]
  },
  {
   "cell_type": "code",
   "execution_count": 17,
   "id": "a8ab8f48",
   "metadata": {},
   "outputs": [],
   "source": [
    "x = data[['male', 'age', 'currentSmoker', 'sysBP', 'diaBP', 'BMI', 'heartRate', 'glucose', 'TenYearCHD']]\n",
    "y = data['totChol']"
   ]
  },
  {
   "cell_type": "markdown",
   "id": "da73830c",
   "metadata": {
    "colab_type": "text",
    "id": "YvxIPVyMhmKp"
   },
   "source": [
    "## Splitting the dataset into the Training set and Test set"
   ]
  },
  {
   "cell_type": "code",
   "execution_count": 18,
   "id": "a75c397d",
   "metadata": {},
   "outputs": [],
   "source": [
    "from sklearn.model_selection import train_test_split\n",
    "x_train,x_test,y_train,y_test = train_test_split(x,y,test_size=.20,random_state=0)"
   ]
  },
  {
   "cell_type": "markdown",
   "id": "cda193ba",
   "metadata": {},
   "source": [
    "## Training the Linear Regression model "
   ]
  },
  {
   "cell_type": "code",
   "execution_count": 19,
   "id": "bbd264c2",
   "metadata": {},
   "outputs": [
    {
     "data": {
      "text/plain": [
       "LinearRegression()"
      ]
     },
     "execution_count": 19,
     "metadata": {},
     "output_type": "execute_result"
    }
   ],
   "source": [
    "from sklearn.linear_model import LinearRegression\n",
    "\n",
    "regressor=LinearRegression()\n",
    "\n",
    "regressor.fit(x_train.values,y_train)"
   ]
  },
  {
   "cell_type": "code",
   "execution_count": 23,
   "id": "464330cd",
   "metadata": {},
   "outputs": [],
   "source": [
    "y_pred=regressor.predict(x_test.values)"
   ]
  },
  {
   "cell_type": "markdown",
   "id": "cfc79ab9",
   "metadata": {},
   "source": [
    "## Model performance check- R Square and RMSE score"
   ]
  },
  {
   "cell_type": "code",
   "execution_count": 24,
   "id": "2436c018",
   "metadata": {},
   "outputs": [],
   "source": [
    "from sklearn.metrics import mean_squared_error, r2_score\n",
    "import math"
   ]
  },
  {
   "cell_type": "code",
   "execution_count": 25,
   "id": "55d7f80f",
   "metadata": {},
   "outputs": [
    {
     "name": "stdout",
     "output_type": "stream",
     "text": [
      "RMSE: 45.22\n"
     ]
    }
   ],
   "source": [
    "print(F\"RMSE: {math.sqrt(mean_squared_error(y_test,y_pred)):.2f}\")"
   ]
  },
  {
   "cell_type": "code",
   "execution_count": 26,
   "id": "9b02a8fb",
   "metadata": {},
   "outputs": [
    {
     "name": "stdout",
     "output_type": "stream",
     "text": [
      "R-square: 0.06\n"
     ]
    }
   ],
   "source": [
    "print(f\"R-square: {r2_score(y_test,y_pred):.2f}\")"
   ]
  },
  {
   "attachments": {
    "image-2.png": {
     "image/png": "[encoded data removed]"
    }
   },
   "cell_type": "markdown",
   "id": "6da8b409",
   "metadata": {
    "colab_type": "text",
    "id": "yyxW5b395mR2"
   },
   "source": [
    "## Predicting new results where the actual results are given\n",
    "![image-2.png](attachment:image-2.png)"
   ]
  },
  {
   "cell_type": "code",
   "execution_count": 27,
   "id": "fd71468c",
   "metadata": {},
   "outputs": [
    {
     "data": {
      "text/plain": [
       "array([229.44479424])"
      ]
     },
     "execution_count": 27,
     "metadata": {},
     "output_type": "execute_result"
    }
   ],
   "source": [
    "# case 1 actual 217\n",
    "regressor.predict([[1,44,1,144,99,25.16,68,60,0]])"
   ]
  },
  {
   "cell_type": "code",
   "execution_count": 28,
   "id": "78935eeb",
   "metadata": {},
   "outputs": [
    {
     "data": {
      "text/plain": [
       "array([236.94760009])"
      ]
     },
     "execution_count": 28,
     "metadata": {},
     "output_type": "execute_result"
    }
   ],
   "source": [
    "# case 2 actual 249\n",
    "regressor.predict([[1,50,1,133,88,28.5,75,75,1]])"
   ]
  },
  {
   "cell_type": "code",
   "execution_count": 29,
   "id": "8d045d24",
   "metadata": {},
   "outputs": [
    {
     "data": {
      "text/plain": [
       "array([245.17293619])"
      ]
     },
     "execution_count": 29,
     "metadata": {},
     "output_type": "execute_result"
    }
   ],
   "source": [
    "# case 3 actual 256\n",
    "regressor.predict([[1,56,0,147,96,30.42,72,75,0]])"
   ]
  },
  {
   "cell_type": "markdown",
   "id": "b097d7c3",
   "metadata": {},
   "source": [
    "## B. Logistic Regression - Create a model to predict the 10 year risk of coronary heart disease CHD of a person"
   ]
  },
  {
   "cell_type": "code",
   "execution_count": 31,
   "id": "7c056a2d",
   "metadata": {},
   "outputs": [
    {
     "data": {
      "text/plain": [
       "Index(['male', 'age', 'currentSmoker', 'totChol', 'sysBP', 'diaBP', 'BMI',\n",
       "       'heartRate', 'glucose', 'TenYearCHD'],\n",
       "      dtype='object')"
      ]
     },
     "execution_count": 31,
     "metadata": {},
     "output_type": "execute_result"
    }
   ],
   "source": [
    "data.columns"
   ]
  },
  {
   "cell_type": "markdown",
   "id": "97e40a21",
   "metadata": {},
   "source": [
    "### Create independent and dependent variables to predict"
   ]
  },
  {
   "cell_type": "code",
   "execution_count": 35,
   "id": "9564b91c",
   "metadata": {},
   "outputs": [],
   "source": [
    "x=data[['male', 'age', 'currentSmoker', 'totChol', 'sysBP', 'diaBP', 'BMI',\n",
    "       'heartRate', 'glucose']]"
   ]
  },
  {
   "cell_type": "code",
   "execution_count": 36,
   "id": "1214b7e8",
   "metadata": {},
   "outputs": [],
   "source": [
    "y=data['TenYearCHD']"
   ]
  },
  {
   "cell_type": "markdown",
   "id": "f02d58c5",
   "metadata": {},
   "source": [
    "## Splitting the dataset into the Training set and Test set"
   ]
  },
  {
   "cell_type": "code",
   "execution_count": 37,
   "id": "23f327b4",
   "metadata": {},
   "outputs": [],
   "source": [
    "from sklearn.model_selection import train_test_split\n",
    "x_train,x_test,y_train,y_test = train_test_split(x,y,test_size=.33,random_state=0)"
   ]
  },
  {
   "cell_type": "markdown",
   "id": "f432947f",
   "metadata": {
    "colab_type": "text",
    "id": "bb6jCOCQiAmP"
   },
   "source": [
    "## Training the Logistic Regression model "
   ]
  },
  {
   "cell_type": "code",
   "execution_count": 38,
   "id": "9763d93c",
   "metadata": {},
   "outputs": [
    {
     "name": "stderr",
     "output_type": "stream",
     "text": [
      "C:\\Users\\alexs\\anaconda3\\lib\\site-packages\\sklearn\\linear_model\\_logistic.py:814: ConvergenceWarning: lbfgs failed to converge (status=1):\n",
      "STOP: TOTAL NO. of ITERATIONS REACHED LIMIT.\n",
      "\n",
      "Increase the number of iterations (max_iter) or scale the data as shown in:\n",
      "    https://scikit-learn.org/stable/modules/preprocessing.html\n",
      "Please also refer to the documentation for alternative solver options:\n",
      "    https://scikit-learn.org/stable/modules/linear_model.html#logistic-regression\n",
      "  n_iter_i = _check_optimize_result(\n"
     ]
    },
    {
     "data": {
      "text/plain": [
       "LogisticRegression()"
      ]
     },
     "execution_count": 38,
     "metadata": {},
     "output_type": "execute_result"
    }
   ],
   "source": [
    "from sklearn.linear_model import LogisticRegression\n",
    "\n",
    "classifier=LogisticRegression()\n",
    "\n",
    "classifier.fit(x_train.values,y_train)"
   ]
  },
  {
   "cell_type": "code",
   "execution_count": 39,
   "id": "b7a56e7c",
   "metadata": {},
   "outputs": [],
   "source": [
    "y_pred=classifier.predict(x_test.values)"
   ]
  },
  {
   "cell_type": "markdown",
   "id": "08f60a49",
   "metadata": {},
   "source": [
    "### Model Performance check using Confusion matrix, Confusion matrix display and classification report"
   ]
  },
  {
   "cell_type": "code",
   "execution_count": 40,
   "id": "4571f667",
   "metadata": {},
   "outputs": [],
   "source": [
    "from sklearn.metrics import confusion_matrix, classification_report, ConfusionMatrixDisplay"
   ]
  },
  {
   "cell_type": "code",
   "execution_count": 41,
   "id": "ef75cf89",
   "metadata": {},
   "outputs": [
    {
     "data": {
      "text/plain": [
       "3554    0\n",
       "410     0\n",
       "3868    1\n",
       "1487    0\n",
       "840     1\n",
       "       ..\n",
       "3829    1\n",
       "2527    0\n",
       "349     0\n",
       "2100    0\n",
       "2842    1\n",
       "Name: TenYearCHD, Length: 1398, dtype: int64"
      ]
     },
     "execution_count": 41,
     "metadata": {},
     "output_type": "execute_result"
    }
   ],
   "source": [
    "y_test"
   ]
  },
  {
   "cell_type": "code",
   "execution_count": 42,
   "id": "b721860c",
   "metadata": {},
   "outputs": [
    {
     "data": {
      "text/plain": [
       "array([0, 0, 0, ..., 0, 0, 0], dtype=int64)"
      ]
     },
     "execution_count": 42,
     "metadata": {},
     "output_type": "execute_result"
    }
   ],
   "source": [
    "y_pred"
   ]
  },
  {
   "cell_type": "code",
   "execution_count": 43,
   "id": "099a6866",
   "metadata": {},
   "outputs": [
    {
     "name": "stdout",
     "output_type": "stream",
     "text": [
      "[[1179    3]\n",
      " [ 206   10]]\n"
     ]
    }
   ],
   "source": [
    "cm=confusion_matrix(y_test,y_pred)\n",
    "print(cm)"
   ]
  },
  {
   "cell_type": "code",
   "execution_count": 44,
   "id": "8c5dfdc9",
   "metadata": {},
   "outputs": [
    {
     "data": {
      "image/png": "[encoded data removed]",
      "text/plain": [
       "<Figure size 640x480 with 2 Axes>"
      ]
     },
     "metadata": {},
     "output_type": "display_data"
    }
   ],
   "source": [
    "disp= ConfusionMatrixDisplay(confusion_matrix=cm,display_labels=classifier.classes_)\n",
    "disp.plot()\n",
    "plt.show()"
   ]
  },
  {
   "cell_type": "markdown",
   "id": "10bd8987",
   "metadata": {},
   "source": [
    "### Discuss the results"
   ]
  },
  {
   "cell_type": "code",
   "execution_count": 45,
   "id": "24c0ed75",
   "metadata": {},
   "outputs": [],
   "source": [
    "#TN = No CHD predicted correctly (8)\n",
    "# TP = CHD predicted correctly (1179)\n",
    "#FP = Actually no CHD but predicted yes (208)\n",
    "# FN = Actually CHD predicted no CHD (3)"
   ]
  },
  {
   "attachments": {
    "image.png": {
     "image/png": "[encoded data removed]"
    }
   },
   "cell_type": "markdown",
   "id": "bffe51c7",
   "metadata": {},
   "source": [
    "## Predicting new results where the actual results are given\n",
    "![image.png](attachment:image.png)"
   ]
  },
  {
   "cell_type": "code",
   "execution_count": 46,
   "id": "972c9991",
   "metadata": {},
   "outputs": [
    {
     "data": {
      "text/plain": [
       "array([0], dtype=int64)"
      ]
     },
     "execution_count": 46,
     "metadata": {},
     "output_type": "execute_result"
    }
   ],
   "source": [
    "classifier.predict([[1,44,1,217,144,89,25.16,68,60]])"
   ]
  },
  {
   "cell_type": "code",
   "execution_count": 47,
   "id": "2cb4b093",
   "metadata": {},
   "outputs": [
    {
     "data": {
      "text/plain": [
       "array([0], dtype=int64)"
      ]
     },
     "execution_count": 47,
     "metadata": {},
     "output_type": "execute_result"
    }
   ],
   "source": [
    "classifier.predict([[1,50,1,249,133,88,28.5,75,75]])"
   ]
  },
  {
   "cell_type": "code",
   "execution_count": 48,
   "id": "d5e57bf5",
   "metadata": {},
   "outputs": [
    {
     "data": {
      "text/plain": [
       "array([0], dtype=int64)"
      ]
     },
     "execution_count": 48,
     "metadata": {},
     "output_type": "execute_result"
    }
   ],
   "source": [
    "classifier.predict([[1,56,0,256,147,96,30.42,71,75]])"
   ]
  },
  {
   "cell_type": "markdown",
   "id": "c59e424f",
   "metadata": {},
   "source": [
    "### Summary"
   ]
  },
  {
   "cell_type": "code",
   "execution_count": 49,
   "id": "b81d1940",
   "metadata": {},
   "outputs": [
    {
     "name": "stdout",
     "output_type": "stream",
     "text": [
      "              precision    recall  f1-score   support\n",
      "\n",
      "           0       0.85      1.00      0.92      1182\n",
      "           1       0.77      0.05      0.09       216\n",
      "\n",
      "    accuracy                           0.85      1398\n",
      "   macro avg       0.81      0.52      0.50      1398\n",
      "weighted avg       0.84      0.85      0.79      1398\n",
      "\n"
     ]
    }
   ],
   "source": [
    "print(classification_report(y_test,y_pred))"
   ]
  },
  {
   "cell_type": "markdown",
   "id": "2b3f7f15",
   "metadata": {},
   "source": [
    "### The dataset exhibits an imbalance, with a higher frequency of 0's compared to 1's, complicating the task of predicting outcomes. In my preprocessing steps, I opted for the mean as a central measure due to the skewed nature of the dataset. Despite the apparent skewness, the mean closely aligns with the median, justifying its use. The linear model has a relatively low R-squared value (0.06), indicating it explains only a small portion of the variance in the dependent variable. The Root Mean Square Error (RMSE) is 45.22, suggesting a moderate level of prediction error. Overall, the model shows room for improvement in explaining and predicting the data.\n"
   ]
  },
  {
   "cell_type": "code",
   "execution_count": null,
   "id": "d05574a9",
   "metadata": {},
   "outputs": [],
   "source": []
  }
 ],
 "metadata": {
  "kernelspec": {
   "display_name": "Python 3 (ipykernel)",
   "language": "python",
   "name": "python3"
  },
  "language_info": {
   "codemirror_mode": {
    "name": "ipython",
    "version": 3
   },
   "file_extension": ".py",
   "mimetype": "text/x-python",
   "name": "python",
   "nbconvert_exporter": "python",
   "pygments_lexer": "ipython3",
   "version": "3.9.13"
  }
 },
 "nbformat": 4,
 "nbformat_minor": 5
}
